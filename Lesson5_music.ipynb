{
 "cells": [
  {
   "cell_type": "markdown",
   "metadata": {},
   "source": [
    "# Lesson 5 - Bonus\n",
    "\n",
    "With this code, you can play some music on Agilent B2192A Source/Measure Unit."
   ]
  },
  {
   "cell_type": "markdown",
   "metadata": {},
   "source": [
    "Show all connected USB devices and specify which is the source meter."
   ]
  },
  {
   "cell_type": "code",
   "execution_count": 1,
   "metadata": {},
   "outputs": [
    {
     "name": "stdout",
     "output_type": "stream",
     "text": [
      "('USB0::0x0957::0x8E18::MY51140120::0::INSTR',)\n"
     ]
    }
   ],
   "source": [
    "import pyvisa\n",
    "\n",
    "rm = pyvisa.ResourceManager()\n",
    "print(rm.list_resources())"
   ]
  },
  {
   "cell_type": "markdown",
   "metadata": {},
   "source": [
    "Create a new object associated with the source meter."
   ]
  },
  {
   "cell_type": "code",
   "execution_count": 2,
   "metadata": {},
   "outputs": [],
   "source": [
    "usb_address = rm.list_resources()[0]\n",
    "source_meter = rm.open_resource(usb_address)"
   ]
  },
  {
   "cell_type": "markdown",
   "metadata": {},
   "source": [
    "Define the note"
   ]
  },
  {
   "cell_type": "code",
   "execution_count": 4,
   "metadata": {},
   "outputs": [],
   "source": [
    "a4=440.\n",
    "b4=493.88\n",
    "c5=554.365  # 523.25\n",
    "d5=587.33\n",
    "e5=659.255\n",
    "f5=739.989  # 698.456\n",
    "g5=783.991\n",
    "a5=880.\n",
    "b5=987.767\n",
    "\n",
    "note = [\n",
    "    [d5, 8],\n",
    "    [e5, 8],\n",
    "    [f5, 8],\n",
    "    [e5, 8],\n",
    "    [d5, 8],\n",
    "    [e5, 6],\n",
    "    [c5, 16],\n",
    "    [b4, 1.6],\n",
    "    [e5, 8],\n",
    "    [f5, 8],\n",
    "    [g5, 8],\n",
    "    [f5, 8],\n",
    "    [e5, 8],\n",
    "    [f5, 6],\n",
    "    [d5, 16],\n",
    "    [c5, 4],\n",
    "    [d5, 4],\n",
    "    [e5, 8],\n",
    "    [e5, 8],\n",
    "    [f5, 8],\n",
    "    [g5, 8],\n",
    "    [a5, 4],\n",
    "    [a5, 4],\n",
    "    [a5, 8],\n",
    "    [a5, 8],\n",
    "    [a5, 6],\n",
    "    [f5, 16],\n",
    "    [f5, 4],\n",
    "    [f5, 4],\n",
    "    [f5, 8],\n",
    "    [f5, 8],\n",
    "    [f5, 6],\n",
    "    [d5, 16],\n",
    "    [a4, 4],\n",
    "    [a4, 8],\n",
    "    [a4, 8],\n",
    "    [a4, 8],\n",
    "    [a4, 8],\n",
    "    [e5, 6],\n",
    "    [c5, 16],\n",
    "    [d5, 3],\n",
    "    [b4, 6],\n",
    "    [d5, 16],\n",
    "    [g5, 3],\n",
    "    [d5, 4],\n",
    "    [b5, 2.52],\n",
    "    [a5, 16],\n",
    "    [a5, 1]]\n",
    "bpm = 77 / 1.1"
   ]
  },
  {
   "cell_type": "markdown",
   "metadata": {},
   "source": [
    "Play the note"
   ]
  },
  {
   "cell_type": "code",
   "execution_count": null,
   "metadata": {},
   "outputs": [],
   "source": [
    "def listToSound(l):\n",
    "    # convert length according to BPM\n",
    "    length = 60. / bpm * 4. / l[1]\n",
    "    return l[0], length\n",
    "\n",
    "\n",
    "def main():\n",
    "    source_meter.write(\":SYST:BEEP:STAT ON\")  # enable beep\n",
    "\n",
    "    for l in note:\n",
    "        freq, leng = listToSound(l)\n",
    "        source_meter.write(f\":SYST:BEEP {freq},{leng:.3f}\")\n",
    "\n",
    "\n",
    "main()"
   ]
  }
 ],
 "metadata": {
  "kernelspec": {
   "display_name": "base",
   "language": "python",
   "name": "python3"
  },
  "language_info": {
   "codemirror_mode": {
    "name": "ipython",
    "version": 3
   },
   "file_extension": ".py",
   "mimetype": "text/x-python",
   "name": "python",
   "nbconvert_exporter": "python",
   "pygments_lexer": "ipython3",
   "version": "3.10.12"
  },
  "orig_nbformat": 4
 },
 "nbformat": 4,
 "nbformat_minor": 2
}
