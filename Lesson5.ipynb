{
 "cells": [
  {
   "cell_type": "markdown",
   "metadata": {},
   "source": [
    "# Coding seminar Lesson 5 - PyVISA\n",
    "\n",
    "In this lesson, we control some instrument via Virtual Instrument Software Architecture (VISA).\n",
    "Procedure is as below:\n",
    "\n",
    "1. Downlaod and install a VISA driver - so that your PC will recognize what you are connecting to.\n",
    "2. Install PyVISA - this enables you to handle instrument in your code.\n",
    "3. Write code and run\n",
    "\n",
    "## 1. Download and install a VISA driver\n",
    "\n",
    "To connect your PC with some instrument, you need a VISA driver.\n",
    "Both [Keysight](https://www.keysight.com/us/en/lib/software-detail/computer-software/io-libraries-suite-downloads-2175637.html) and [National Instrument](https://www.ni.com/en/support/downloads/drivers/download.ni-visa.html#484351) provide the connection suite (including GUI for establishing connection), download your favorite one.\n",
    "\n",
    "## 2. Install PyVISA\n",
    "\n",
    "Run below code:\n",
    "```\n",
    "pip install pyvisa\n",
    "```\n",
    "\n",
    "## 3. Write code and run\n",
    "\n",
    "Now the environment is ready, let's start coding!\n",
    "\n",
    "### 1. Check USB address and create a new object for the instrument\n",
    "First, connect your PC to the instrument and check how it appears in your code."
   ]
  },
  {
   "cell_type": "code",
   "execution_count": 1,
   "metadata": {},
   "outputs": [
    {
     "name": "stdout",
     "output_type": "stream",
     "text": [
      "('USB0::0x0471::0x2827::4a::0::INSTR', 'USB0::0x0957::0x8E18::MY51140120::0::INSTR')\n"
     ]
    }
   ],
   "source": [
    "import pyvisa\n",
    "\n",
    "rm = pyvisa.ResourceManager()\n",
    "print(rm.list_resources())"
   ]
  },
  {
   "cell_type": "markdown",
   "metadata": {},
   "source": [
    "This list tells devices that are connected to your PC via USB/LAN by the address.\n",
    "By checking that, we know the second one is the correct address.\n",
    "\n",
    "Now, let's create an object for the instrument by specifying the address. Using a query `*IDN?` you can identify what it is."
   ]
  },
  {
   "cell_type": "code",
   "execution_count": 2,
   "metadata": {},
   "outputs": [
    {
     "name": "stdout",
     "output_type": "stream",
     "text": [
      "B&K Precision, 895,480I21101,1.0.5,6.0\n",
      "\n"
     ]
    }
   ],
   "source": [
    "usb_address, _ = rm.list_resources()\n",
    "lcr = rm.open_resource(usb_address)\n",
    "print(lcr.query('*IDN?'))"
   ]
  },
  {
   "cell_type": "markdown",
   "metadata": {},
   "source": [
    "Yes, here we have B&K Precision 895 connected."
   ]
  },
  {
   "cell_type": "markdown",
   "metadata": {},
   "source": [
    "### 2. Parameter setup\n",
    "\n",
    "Here we prepare all the parameters. In this example, all condition are as below:\n",
    "\n",
    "- Run an impedance measurement; measured values are $Z$ and $\\phi$ vs. $f$ as shown in Lesson 2.\n",
    "- Measurement frequencies are from 20 Hz to 1 MHz, in loarithmic manner, for 101 points.\n",
    "- Amplitude of measurement voltage is 0.1 V.\n",
    "- DC bias is 0 V.\n",
    "- No averaging (averaging number is 1)\n",
    "- aperture is 'medium'\n",
    "- open correction status is 'off'\n",
    "\n",
    "Below is how to create input $f$ following the foremat."
   ]
  },
  {
   "cell_type": "code",
   "execution_count": 3,
   "metadata": {},
   "outputs": [
    {
     "name": "stdout",
     "output_type": "stream",
     "text": [
      "[2.00000000e+01 2.22853621e+01 2.48318683e+01 2.76693588e+01\n",
      " 3.08310841e+01 3.43540937e+01 3.82796709e+01 4.26538165e+01\n",
      " 4.75277873e+01 5.29586976e+01 5.90101877e+01 6.57531701e+01\n",
      " 7.32666604e+01 8.16387030e+01 9.09674030e+01 1.01362076e+02\n",
      " 1.12944528e+02 1.25850486e+02 1.40231183e+02 1.56255134e+02\n",
      " 1.74110113e+02 1.94005346e+02 2.16173969e+02 2.40875759e+02\n",
      " 2.68400176e+02 2.99069756e+02 3.33243891e+02 3.71323040e+02\n",
      " 4.13753420e+02 4.61032240e+02 5.13713521e+02 5.72414593e+02\n",
      " 6.37823325e+02 7.10706189e+02 7.91917239e+02 8.82408123e+02\n",
      " 9.83239228e+02 1.09559211e+03 1.22078335e+03 1.36027995e+03\n",
      " 1.51571657e+03 1.68891463e+03 1.88190371e+03 2.09694528e+03\n",
      " 2.33655925e+03 2.60355345e+03 2.90105657e+03 3.23255481e+03\n",
      " 3.60193273e+03 4.01351876e+03 4.47213595e+03 4.98315846e+03\n",
      " 5.55257455e+03 6.18705673e+03 6.89403999e+03 7.68180888e+03\n",
      " 8.55959464e+03 9.53768331e+03 1.06275363e+04 1.18419248e+04\n",
      " 1.31950791e+04 1.47028558e+04 1.63829233e+04 1.82549689e+04\n",
      " 2.03409297e+04 2.26652492e+04 2.52551643e+04 2.81410241e+04\n",
      " 3.13566457e+04 3.49397102e+04 3.89322047e+04 4.33809141e+04\n",
      " 4.83379690e+04 5.38614572e+04 6.00161039e+04 6.68740305e+04\n",
      " 7.45155994e+04 8.30303558e+04 9.25180774e+04 1.03089943e+05\n",
      " 1.14869835e+05 1.27995794e+05 1.42621631e+05 1.58918735e+05\n",
      " 1.77078078e+05 1.97312455e+05 2.19858975e+05 2.44981844e+05\n",
      " 2.72975456e+05 3.04167844e+05 3.38924528e+05 3.77652792e+05\n",
      " 4.20806461e+05 4.68891219e+05 5.22470531e+05 5.82172249e+05\n",
      " 6.48695970e+05 7.22821230e+05 8.05416644e+05 8.97450079e+05\n",
      " 1.00000000e+06]\n"
     ]
    }
   ],
   "source": [
    "import numpy as np\n",
    "\n",
    "# measurement is from 20 to 1 000 000.\n",
    "# Obtain log_20(1 000 000) so that we know the range as 20**1 - 20**log_scale\n",
    "log_scale = np.log(1000000) / np.log(20)\n",
    "\n",
    "# make 101 points in log scale between 20 to 1 000 000\n",
    "num_points = 101\n",
    "freq_ar = np.logspace(1, log_scale, num=num_points, base=20, endpoint=True)\n",
    "print(freq_ar)"
   ]
  },
  {
   "cell_type": "markdown",
   "metadata": {},
   "source": [
    "Remove residual error message from the instrument, if any."
   ]
  },
  {
   "cell_type": "code",
   "execution_count": 4,
   "metadata": {},
   "outputs": [
    {
     "data": {
      "text/plain": [
       "6"
      ]
     },
     "execution_count": 4,
     "metadata": {},
     "output_type": "execute_result"
    }
   ],
   "source": [
    "# clear error message\n",
    "lcr.write(':DISP:CCL')\n",
    "# clear messages\n",
    "lcr.write('*CLS')"
   ]
  },
  {
   "cell_type": "markdown",
   "metadata": {},
   "source": [
    "Set to respond to the trigger from PC, to initiate measurement."
   ]
  },
  {
   "cell_type": "code",
   "execution_count": 5,
   "metadata": {},
   "outputs": [
    {
     "data": {
      "text/plain": [
       "16"
      ]
     },
     "execution_count": 5,
     "metadata": {},
     "output_type": "execute_result"
    }
   ],
   "source": [
    "# trigger mode BUS mode from USB\n",
    "lcr.write(':TRIG:SOUR BUS')"
   ]
  },
  {
   "cell_type": "markdown",
   "metadata": {},
   "source": [
    "Now, let's set above condition to the instrument."
   ]
  },
  {
   "cell_type": "code",
   "execution_count": 6,
   "metadata": {},
   "outputs": [
    {
     "data": {
      "text/plain": [
       "21"
      ]
     },
     "execution_count": 6,
     "metadata": {},
     "output_type": "execute_result"
    }
   ],
   "source": [
    "# Run an impedance measurement\n",
    "lcr.write(':FUNC:IMP ZTD')\n",
    "# automatic measurement range\n",
    "lcr.write(':FUNC:IMP:RANG:AUTO ON')\n",
    "\n",
    "# aperture and averaging\n",
    "lcr.write(':APER MED, 1')\n",
    "\n",
    "# amplitude\n",
    "lcr.write(':VOLT 0.1')\n",
    "# DC bias is zero\n",
    "lcr.write(':BIAS:STAT OFF')\n",
    "\n",
    "# open correction status is 'off'\n",
    "lcr.write(':CORR:OPEN:STAT OFF')"
   ]
  },
  {
   "cell_type": "markdown",
   "metadata": {},
   "source": [
    "Add some more additional parameters..."
   ]
  },
  {
   "cell_type": "code",
   "execution_count": 7,
   "metadata": {},
   "outputs": [
    {
     "data": {
      "text/plain": [
       "12"
      ]
     },
     "execution_count": 7,
     "metadata": {},
     "output_type": "execute_result"
    }
   ],
   "source": [
    "\n",
    "# set operation status enable register to zero\n",
    "lcr.write(':STAT:OPER:ENAB 0')\n",
    "# reset trigger\n",
    "lcr.write(':ABOR:INIT')"
   ]
  },
  {
   "cell_type": "markdown",
   "metadata": {},
   "source": [
    "Finally, set out a timeout. This sweep takes time like 30 s, and we don't want the machine to abort it."
   ]
  },
  {
   "cell_type": "code",
   "execution_count": 8,
   "metadata": {},
   "outputs": [],
   "source": [
    "# timeout for sweep(s) in second\n",
    "lcr.timeout = 100000"
   ]
  },
  {
   "cell_type": "markdown",
   "metadata": {},
   "source": [
    "### 3. Run measurement and fetch result\n",
    "\n",
    "Unfortunately I couldn't find the command to fetch the result of sweep measurement rather than manually insert a USB key and save the result, thus here I repeat single measurement 101 times."
   ]
  },
  {
   "cell_type": "code",
   "execution_count": 9,
   "metadata": {},
   "outputs": [
    {
     "name": "stdout",
     "output_type": "stream",
     "text": [
      "[2260040000.0, -55.6239, 0.0]\n",
      "[4284210000.0, -5.74268, 0.0]\n",
      "[3778910000.0, -88.5861, 0.0]\n",
      "[6859020000.0, -179.653, 0.0]\n",
      "[2226480000.0, -41.742, 0.0]\n",
      "[1145880000.0, -94.2574, 0.0]\n",
      "[2781350000.0, -88.8646, 0.0]\n",
      "[1167800000.0, 97.2698, 0.0]\n",
      "[813034000.0, 172.822, 0.0]\n",
      "[1149460000.0, -119.745, 0.0]\n",
      "[1821790000.0, -102.588, 0.0]\n",
      "[630629000.0, -70.2147, 0.0]\n",
      "[766059000.0, -83.5713, 0.0]\n",
      "[1403340000.0, -90.5026, 0.0]\n",
      "[29332300000.0, 123.523, 0.0]\n",
      "[556440000.0, -56.661, 0.0]\n",
      "[1655310000.0, -99.818, 0.0]\n",
      "[1085970000.0, -114.13, 0.0]\n",
      "[1035220000.0, -98.1968, 0.0]\n",
      "[803747000.0, -71.0805, 0.0]\n",
      "[824471000.0, -111.128, 0.0]\n",
      "[908979000.0, -131.304, 0.0]\n",
      "[707845000.0, -90.3563, 0.0]\n",
      "[597655000.0, -85.5797, 0.0]\n",
      "[503941000.0, -86.0407, 0.0]\n",
      "[549171000.0, -91.2364, 0.0]\n",
      "[438262000.0, -91.3169, 0.0]\n",
      "[420279000.0, -85.2013, 0.0]\n",
      "[361465000.0, -86.5919, 0.0]\n",
      "[304508000.0, -88.9568, 0.0]\n",
      "[291953000.0, -92.1898, 0.0]\n",
      "[260177000.0, -86.7075, 0.0]\n",
      "[262032000.0, -91.5255, 0.0]\n",
      "[196855000.0, -88.1522, 0.0]\n",
      "[194958000.0, -90.1729, 0.0]\n",
      "[167542000.0, -90.8353, 0.0]\n",
      "[149840000.0, -90.0435, 0.0]\n",
      "[129696000.0, -97.0975, 0.0]\n",
      "[122962000.0, -90.421, 0.0]\n",
      "[106527000.0, -88.9637, 0.0]\n",
      "[101039000.0, -91.1941, 0.0]\n",
      "[85612300.0, -90.6871, 0.0]\n",
      "[77550700.0, -90.7676, 0.0]\n",
      "[71389900.0, -90.6927, 0.0]\n",
      "[63645400.0, -90.3386, 0.0]\n",
      "[57322900.0, -90.4725, 0.0]\n",
      "[50842700.0, -89.2787, 0.0]\n",
      "[46409100.0, -89.5038, 0.0]\n",
      "[41548300.0, -90.559, 0.0]\n",
      "[36726300.0, -90.672, 0.0]\n",
      "[32610800.0, -89.239, 0.0]\n",
      "[30038800.0, -88.0422, 0.0]\n",
      "[26044300.0, -90.8683, 0.0]\n",
      "[23588600.0, -90.0594, 0.0]\n",
      "[21182200.0, -89.7925, 0.0]\n",
      "[19016100.0, -90.2096, 0.0]\n",
      "[17109400.0, -90.181, 0.0]\n",
      "[15348600.0, -89.5258, 0.0]\n",
      "[13272600.0, -89.3842, 0.0]\n",
      "[12353300.0, -89.8375, 0.0]\n",
      "[11190000.0, -90.1793, 0.0]\n",
      "[9770710.0, -89.1924, 0.0]\n",
      "[9070960.0, -90.7294, 0.0]\n",
      "[8112380.0, -90.199, 0.0]\n",
      "[7245740.0, -89.8018, 0.0]\n",
      "[6286760.0, -89.8606, 0.0]\n",
      "[5729660.0, -89.6084, 0.0]\n",
      "[5243790.0, -89.5775, 0.0]\n",
      "[4704890.0, -89.7539, 0.0]\n",
      "[4166340.0, -90.3583, 0.0]\n",
      "[3762200.0, -90.0224, 0.0]\n",
      "[3380980.0, -89.9955, 0.0]\n",
      "[3043640.0, -89.9694, 0.0]\n",
      "[2684810.0, -89.8935, 0.0]\n",
      "[2424090.0, -89.9228, 0.0]\n",
      "[2147160.0, -90.4654, 0.0]\n",
      "[1916370.0, -89.7745, 0.0]\n",
      "[1720200.0, -89.6826, 0.0]\n",
      "[1519930.0, -89.7502, 0.0]\n",
      "[1414280.0, -89.3155, 0.0]\n",
      "[1269820.0, -89.8332, 0.0]\n",
      "[1051530.0, -89.6206, 0.0]\n",
      "[966919.0, -89.3364, 0.0]\n",
      "[891783.0, -90.1734, 0.0]\n",
      "[779564.0, -89.7789, 0.0]\n",
      "[684335.0, -88.8456, 0.0]\n",
      "[619924.0, -89.4334, 0.0]\n",
      "[560607.0, -89.1522, 0.0]\n",
      "[484069.0, -88.5258, 0.0]\n",
      "[423747.0, -87.6234, 0.0]\n",
      "[360348.0, -88.5144, 0.0]\n",
      "[307747.0, -86.9772, 0.0]\n",
      "[265904.0, -85.854, 0.0]\n",
      "[222986.0, -84.2211, 0.0]\n",
      "[230818.0, -86.5133, 0.0]\n",
      "[197890.0, -85.0206, 0.0]\n",
      "[166151.0, -84.6017, 0.0]\n",
      "[141493.0, -83.0665, 0.0]\n",
      "[116693.0, -79.6567, 0.0]\n",
      "[96108.7, -77.8119, 0.0]\n",
      "[78728.7, -74.0091, 0.0]\n"
     ]
    }
   ],
   "source": [
    "import time\n",
    "\n",
    "result_array = np.array([])\n",
    "for fq in freq_ar:\n",
    "    # input frequency format must be \\d.\\dE+\\d\n",
    "    freq_string = f'{fq:.1E}'.replace('+0', '+')\n",
    "    # set frequency\n",
    "    lcr.write(f':FREQ {freq_string}')\n",
    "\n",
    "    # trigger\n",
    "    lcr.write(':TRIG')\n",
    "\n",
    "    # sleep before fetch\n",
    "    sleep_time = int(100 / fq) if fq < 100 else 0.5\n",
    "    time.sleep(sleep_time)\n",
    "\n",
    "    # fetch\n",
    "    ar_output = lcr.query_ascii_values('FETC?')\n",
    "    # append result to array\n",
    "    print(ar_output)\n",
    "    result_array = np.append(result_array, ar_output)"
   ]
  },
  {
   "cell_type": "code",
   "execution_count": 10,
   "metadata": {},
   "outputs": [
    {
     "name": "stdout",
     "output_type": "stream",
     "text": [
      "[[ 2.26004e+09 -5.56239e+01  0.00000e+00]\n",
      " [ 4.28421e+09 -5.74268e+00  0.00000e+00]\n",
      " [ 3.77891e+09 -8.85861e+01  0.00000e+00]\n",
      " [ 6.85902e+09 -1.79653e+02  0.00000e+00]\n",
      " [ 2.22648e+09 -4.17420e+01  0.00000e+00]\n",
      " [ 1.14588e+09 -9.42574e+01  0.00000e+00]\n",
      " [ 2.78135e+09 -8.88646e+01  0.00000e+00]\n",
      " [ 1.16780e+09  9.72698e+01  0.00000e+00]\n",
      " [ 8.13034e+08  1.72822e+02  0.00000e+00]\n",
      " [ 1.14946e+09 -1.19745e+02  0.00000e+00]\n",
      " [ 1.82179e+09 -1.02588e+02  0.00000e+00]\n",
      " [ 6.30629e+08 -7.02147e+01  0.00000e+00]\n",
      " [ 7.66059e+08 -8.35713e+01  0.00000e+00]\n",
      " [ 1.40334e+09 -9.05026e+01  0.00000e+00]\n",
      " [ 2.93323e+10  1.23523e+02  0.00000e+00]\n",
      " [ 5.56440e+08 -5.66610e+01  0.00000e+00]\n",
      " [ 1.65531e+09 -9.98180e+01  0.00000e+00]\n",
      " [ 1.08597e+09 -1.14130e+02  0.00000e+00]\n",
      " [ 1.03522e+09 -9.81968e+01  0.00000e+00]\n",
      " [ 8.03747e+08 -7.10805e+01  0.00000e+00]\n",
      " [ 8.24471e+08 -1.11128e+02  0.00000e+00]\n",
      " [ 9.08979e+08 -1.31304e+02  0.00000e+00]\n",
      " [ 7.07845e+08 -9.03563e+01  0.00000e+00]\n",
      " [ 5.97655e+08 -8.55797e+01  0.00000e+00]\n",
      " [ 5.03941e+08 -8.60407e+01  0.00000e+00]\n",
      " [ 5.49171e+08 -9.12364e+01  0.00000e+00]\n",
      " [ 4.38262e+08 -9.13169e+01  0.00000e+00]\n",
      " [ 4.20279e+08 -8.52013e+01  0.00000e+00]\n",
      " [ 3.61465e+08 -8.65919e+01  0.00000e+00]\n",
      " [ 3.04508e+08 -8.89568e+01  0.00000e+00]\n",
      " [ 2.91953e+08 -9.21898e+01  0.00000e+00]\n",
      " [ 2.60177e+08 -8.67075e+01  0.00000e+00]\n",
      " [ 2.62032e+08 -9.15255e+01  0.00000e+00]\n",
      " [ 1.96855e+08 -8.81522e+01  0.00000e+00]\n",
      " [ 1.94958e+08 -9.01729e+01  0.00000e+00]\n",
      " [ 1.67542e+08 -9.08353e+01  0.00000e+00]\n",
      " [ 1.49840e+08 -9.00435e+01  0.00000e+00]\n",
      " [ 1.29696e+08 -9.70975e+01  0.00000e+00]\n",
      " [ 1.22962e+08 -9.04210e+01  0.00000e+00]\n",
      " [ 1.06527e+08 -8.89637e+01  0.00000e+00]\n",
      " [ 1.01039e+08 -9.11941e+01  0.00000e+00]\n",
      " [ 8.56123e+07 -9.06871e+01  0.00000e+00]\n",
      " [ 7.75507e+07 -9.07676e+01  0.00000e+00]\n",
      " [ 7.13899e+07 -9.06927e+01  0.00000e+00]\n",
      " [ 6.36454e+07 -9.03386e+01  0.00000e+00]\n",
      " [ 5.73229e+07 -9.04725e+01  0.00000e+00]\n",
      " [ 5.08427e+07 -8.92787e+01  0.00000e+00]\n",
      " [ 4.64091e+07 -8.95038e+01  0.00000e+00]\n",
      " [ 4.15483e+07 -9.05590e+01  0.00000e+00]\n",
      " [ 3.67263e+07 -9.06720e+01  0.00000e+00]\n",
      " [ 3.26108e+07 -8.92390e+01  0.00000e+00]\n",
      " [ 3.00388e+07 -8.80422e+01  0.00000e+00]\n",
      " [ 2.60443e+07 -9.08683e+01  0.00000e+00]\n",
      " [ 2.35886e+07 -9.00594e+01  0.00000e+00]\n",
      " [ 2.11822e+07 -8.97925e+01  0.00000e+00]\n",
      " [ 1.90161e+07 -9.02096e+01  0.00000e+00]\n",
      " [ 1.71094e+07 -9.01810e+01  0.00000e+00]\n",
      " [ 1.53486e+07 -8.95258e+01  0.00000e+00]\n",
      " [ 1.32726e+07 -8.93842e+01  0.00000e+00]\n",
      " [ 1.23533e+07 -8.98375e+01  0.00000e+00]\n",
      " [ 1.11900e+07 -9.01793e+01  0.00000e+00]\n",
      " [ 9.77071e+06 -8.91924e+01  0.00000e+00]\n",
      " [ 9.07096e+06 -9.07294e+01  0.00000e+00]\n",
      " [ 8.11238e+06 -9.01990e+01  0.00000e+00]\n",
      " [ 7.24574e+06 -8.98018e+01  0.00000e+00]\n",
      " [ 6.28676e+06 -8.98606e+01  0.00000e+00]\n",
      " [ 5.72966e+06 -8.96084e+01  0.00000e+00]\n",
      " [ 5.24379e+06 -8.95775e+01  0.00000e+00]\n",
      " [ 4.70489e+06 -8.97539e+01  0.00000e+00]\n",
      " [ 4.16634e+06 -9.03583e+01  0.00000e+00]\n",
      " [ 3.76220e+06 -9.00224e+01  0.00000e+00]\n",
      " [ 3.38098e+06 -8.99955e+01  0.00000e+00]\n",
      " [ 3.04364e+06 -8.99694e+01  0.00000e+00]\n",
      " [ 2.68481e+06 -8.98935e+01  0.00000e+00]\n",
      " [ 2.42409e+06 -8.99228e+01  0.00000e+00]\n",
      " [ 2.14716e+06 -9.04654e+01  0.00000e+00]\n",
      " [ 1.91637e+06 -8.97745e+01  0.00000e+00]\n",
      " [ 1.72020e+06 -8.96826e+01  0.00000e+00]\n",
      " [ 1.51993e+06 -8.97502e+01  0.00000e+00]\n",
      " [ 1.41428e+06 -8.93155e+01  0.00000e+00]\n",
      " [ 1.26982e+06 -8.98332e+01  0.00000e+00]\n",
      " [ 1.05153e+06 -8.96206e+01  0.00000e+00]\n",
      " [ 9.66919e+05 -8.93364e+01  0.00000e+00]\n",
      " [ 8.91783e+05 -9.01734e+01  0.00000e+00]\n",
      " [ 7.79564e+05 -8.97789e+01  0.00000e+00]\n",
      " [ 6.84335e+05 -8.88456e+01  0.00000e+00]\n",
      " [ 6.19924e+05 -8.94334e+01  0.00000e+00]\n",
      " [ 5.60607e+05 -8.91522e+01  0.00000e+00]\n",
      " [ 4.84069e+05 -8.85258e+01  0.00000e+00]\n",
      " [ 4.23747e+05 -8.76234e+01  0.00000e+00]\n",
      " [ 3.60348e+05 -8.85144e+01  0.00000e+00]\n",
      " [ 3.07747e+05 -8.69772e+01  0.00000e+00]\n",
      " [ 2.65904e+05 -8.58540e+01  0.00000e+00]\n",
      " [ 2.22986e+05 -8.42211e+01  0.00000e+00]\n",
      " [ 2.30818e+05 -8.65133e+01  0.00000e+00]\n",
      " [ 1.97890e+05 -8.50206e+01  0.00000e+00]\n",
      " [ 1.66151e+05 -8.46017e+01  0.00000e+00]\n",
      " [ 1.41493e+05 -8.30665e+01  0.00000e+00]\n",
      " [ 1.16693e+05 -7.96567e+01  0.00000e+00]\n",
      " [ 9.61087e+04 -7.78119e+01  0.00000e+00]\n",
      " [ 7.87287e+04 -7.40091e+01  0.00000e+00]]\n"
     ]
    }
   ],
   "source": [
    "reshaped = result_array.reshape(-1, 3)\n",
    "print(reshaped)"
   ]
  },
  {
   "cell_type": "code",
   "execution_count": 11,
   "metadata": {},
   "outputs": [
    {
     "data": {
      "text/plain": [
       "[<matplotlib.lines.Line2D at 0x284b2f02bc0>]"
      ]
     },
     "execution_count": 11,
     "metadata": {},
     "output_type": "execute_result"
    },
    {
     "data": {
      "image/png": "[encoded data removed]",
      "text/plain": [
       "<Figure size 640x480 with 2 Axes>"
      ]
     },
     "metadata": {},
     "output_type": "display_data"
    }
   ],
   "source": [
    "import matplotlib.pyplot as plt\n",
    "_, ax = plt.subplots()\n",
    "ax.plot(freq_ar, reshaped[:, 0], '.')\n",
    "ax.set_xscale('log')\n",
    "ax.set_yscale('log')\n",
    "ax2 = ax.twinx()\n",
    "ax2.plot(freq_ar, reshaped[:, 1], '.', color='orange')"
   ]
  },
  {
   "cell_type": "markdown",
   "metadata": {},
   "source": [
    "### 4. Post-measurement\n",
    "\n",
    "Sometimes it happens (to me) but if you don't reset the trigger, the machine continues to output. In case it's high voltage... So don't forget to switch it off!"
   ]
  },
  {
   "cell_type": "code",
   "execution_count": 12,
   "metadata": {},
   "outputs": [
    {
     "data": {
      "text/plain": [
       "6"
      ]
     },
     "execution_count": 12,
     "metadata": {},
     "output_type": "execute_result"
    }
   ],
   "source": [
    "# change to internal (continuous) trigger\n",
    "lcr.write(':TRIG:SOUR INT')\n",
    "lcr.write('*RST')"
   ]
  }
 ],
 "metadata": {
  "kernelspec": {
   "display_name": "base",
   "language": "python",
   "name": "python3"
  },
  "language_info": {
   "codemirror_mode": {
    "name": "ipython",
    "version": 3
   },
   "file_extension": ".py",
   "mimetype": "text/x-python",
   "name": "python",
   "nbconvert_exporter": "python",
   "pygments_lexer": "ipython3",
   "version": "3.10.12"
  },
  "orig_nbformat": 4
 },
 "nbformat": 4,
 "nbformat_minor": 2
}
