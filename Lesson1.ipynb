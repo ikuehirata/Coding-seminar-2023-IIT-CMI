{
 "cells": [
  {
   "cell_type": "markdown",
   "metadata": {},
   "source": [
    "# Coding seminar Lesson 1 – Get ready to code: prepare your environment\n",
    "\n",
    "This time we don't have much of coding...\n",
    "\n",
    "## Agenda\n",
    "- How Python works on PC and what are environments\n",
    "- Set up your environments on your PC\n",
    "- Set up your coding ground with Visual Studio Code\n",
    "- Extensions in VS Code\n",
    "- Start coding\n",
    "- Use external computing resource\n",
    "- Textbooks and references"
   ]
  },
  {
   "cell_type": "markdown",
   "metadata": {},
   "source": [
    "## How Python works on PC and what are environments\n",
    "\n",
    "I'm not a pro - I'll leave the explanation to [DATAQUEST](https://www.dataquest.io/blog/a-complete-guide-to-python-virtual-environments/)."
   ]
  },
  {
   "cell_type": "markdown",
   "metadata": {},
   "source": [
    "## Set up your environments on your PC\n",
    "Once you installed [Anaconda](https://www.anaconda.com/), it creates a default environment named `base`. In this course we'll use this one."
   ]
  },
  {
   "cell_type": "markdown",
   "metadata": {},
   "source": [
    "## Set up your coding ground with Visual Studio Code\n",
    "Install [Visual Studio Code](https://code.visualstudio.com/). We are going to use this IDE (integrated development environment) during the class.\n",
    "\n",
    "Create a new folder (or open a folder you already made for this seminar)."
   ]
  },
  {
   "cell_type": "markdown",
   "metadata": {},
   "source": [
    "## Extensions in VS Code\n",
    "Extension are needed in handling specific files, or just adds useful functions for coding. This time we are going to create Jupyter Notebook, and for that, we need to install Jupyter extension.\n",
    "\n",
    "From the right panel, choose \"Extension\" and find Jupyter, then install it.\n",
    "\n",
    "Later, search for more extensions. You'll find various extensions helpful, including [GitHub Copilot](https://github.com/features/copilot)[^1].\n",
    "\n",
    "[^1]: AI generated contents are so far always issues of privacy and GitHub Copilot is no exception. There's a lawsuit going on."
   ]
  },
  {
   "cell_type": "markdown",
   "metadata": {},
   "source": [
    "## Start coding\n",
    "Once Jupyter extension is installed, type **[Shift] + [Ctrl] + P** to launch **command palette**. You can run code-specific and/or extension functions from here.\n",
    "Type `jupyter` and you'll find **\"Create: New Jupyter Notebook\"** command at the top. Select it and new Jupyter file will appear!\n",
    "\n",
    "First thing first, let's do \"Hello World\". Type like below:"
   ]
  },
  {
   "cell_type": "code",
   "execution_count": null,
   "metadata": {},
   "outputs": [],
   "source": [
    "print(\"Hello World!\")"
   ]
  },
  {
   "cell_type": "markdown",
   "metadata": {},
   "source": [
    "Then press **[Ctrl] + [Enter]** to run the cell. \n",
    "At the first time, you'll be asked to select your Python environment to run this code. Select **base** from Anaconda.\n",
    "Then you'll see \"Hello World!\" appears below the cell - this is the output of the cell."
   ]
  },
  {
   "cell_type": "code",
   "execution_count": 2,
   "metadata": {},
   "outputs": [
    {
     "name": "stdout",
     "output_type": "stream",
     "text": [
      "Hello World!\n"
     ]
    }
   ],
   "source": [
    "print(\"Hello World!\")"
   ]
  },
  {
   "cell_type": "markdown",
   "metadata": {},
   "source": [
    "## Use external computing resource\n",
    "If your PC has low spec, or you want to do heavy machine learning but have no GPU, using external resource is one option.\n",
    "[Google Colab](https://research.google.com/colaboratory/) is one of the most accessible service."
   ]
  },
  {
   "cell_type": "markdown",
   "metadata": {},
   "source": [
    "## Textbooks and references\n",
    "\n",
    "- Coding\n",
    "\n",
    "  If you are totally new to coding, I recommend some online courses. For textbooks, \n",
    "  - Allen B. Downey, “Think Python: How to Think Like a Computer Scientist”, O'Reilly Media ([Amazon](https://www.amazon.it/Think-Python-Like-Computer-Scientist/dp/1491939362) and [HTML](https://greenteapress.com/thinkpython2/html/index.html))\n",
    "  \n",
    "  is one option.\n",
    "\n",
    "- Visual Studio Code\n",
    "\n",
    "  For basics, always refer to the [official document](https://code.visualstudio.com/docs/introvideos/basics). Later you can find various tips and tricks from other online resources such as blogs.\n",
    "\n",
    "- Jupyter Notebook\n",
    "  Jupyter Notebook has a lot of functions to explore. See [Working with Jupyter Notebooks in Visual Studio Code](https://code.visualstudio.com/docs/datascience/jupyter-notebooks) and other materials to work comfortably."
   ]
  }
 ],
 "metadata": {
  "kernelspec": {
   "display_name": "base",
   "language": "python",
   "name": "python3"
  },
  "language_info": {
   "codemirror_mode": {
    "name": "ipython",
    "version": 3
   },
   "file_extension": ".py",
   "mimetype": "text/x-python",
   "name": "python",
   "nbconvert_exporter": "python",
   "pygments_lexer": "ipython3",
   "version": "3.7.12"
  },
  "orig_nbformat": 4
 },
 "nbformat": 4,
 "nbformat_minor": 2
}
